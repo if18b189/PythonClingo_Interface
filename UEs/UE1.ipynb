{
 "cells": [
  {
   "cell_type": "code",
   "execution_count": 94,
   "outputs": [
    {
     "name": "stdout",
     "output_type": "stream",
     "text": [
      "The autoreload extension is already loaded. To reload it, use:\n",
      "  %reload_ext autoreload\n"
     ]
    }
   ],
   "source": [
    "%load_ext autoreload\n",
    "%autoreload 2\n",
    "%reload_ext autoreload\n",
    "import os\n",
    "from src.pythonclingointerface.clingo_interface import *\n",
    "import matplotlib.pyplot as plt"
   ],
   "metadata": {
    "collapsed": false,
    "pycharm": {
     "name": "#%%\n"
    }
   }
  },
  {
   "cell_type": "code",
   "execution_count": 95,
   "outputs": [
    {
     "name": "stdout",
     "output_type": "stream",
     "text": [
      "TestID: \n",
      "483\n"
     ]
    }
   ],
   "source": [
    "interface=ClingoInterface()\n",
    "interface.checkParenthesis(concatenate=2)"
   ],
   "metadata": {
    "collapsed": false,
    "pycharm": {
     "name": "#%%\n"
    }
   }
  },
  {
   "cell_type": "markdown",
   "source": [
    "<h4>Example 1:</h4>\n",
    "\n",
    "We want to calculate the chance to throw a prime with 2 dices."
   ],
   "metadata": {
    "collapsed": false,
    "pycharm": {
     "name": "#%% md\n"
    }
   }
  },
  {
   "cell_type": "markdown",
   "source": [
    "We should begin by creating 2 dices and all of their possible outcomes.\n",
    "<ul>\n",
    "<li>Create atoms called \"diceA\" and \"diceB\" respectively and assign them numbers from 1 to 6. </li>\n",
    "<li>Make sure only one number is assigned to diceA und diceB. </li>\n",
    "</ul>\n",
    "\n",
    "#Your Code here\n",
    "\n",
    "<Blockquote>\n",
    "\n",
    "<CLINGO\n",
    "\n",
    "{diceA(1..6)}=1.\n",
    "{diceB(1..6)}=1.\n",
    "\n",
    "CLINGO>\n",
    "</Blockquote>\n"
   ],
   "metadata": {
    "collapsed": false
   }
  },
  {
   "cell_type": "code",
   "execution_count": 96,
   "outputs": [
    {
     "name": "stdout",
     "output_type": "stream",
     "text": [
      "Number of current combinations: 36\n"
     ]
    }
   ],
   "source": [
    "print(\"Number of current combinations:\", len(interface.problems[0].solution.solutions))"
   ],
   "metadata": {
    "collapsed": false,
    "pycharm": {
     "name": "#%%\n"
    }
   }
  },
  {
   "cell_type": "markdown",
   "source": [
    "Now we should remove all the combinations which sum doesn't\n",
    "equal a prime.\n",
    "<ul>\n",
    "<li>Create an atom called \"composite\" and assign it numbers N from 1 to 12.</li>\n",
    "<li>Create a clause that removes all composites(N) which are divisible by I where I is smaller than N</li>\n",
    "<li>Remove all dices which sum equals to any N that has been assigned to composite(N)</li>\n",
    "</ul>\n",
    "\n",
    "#Your Code Here\n",
    "\n",
    "<Blockquote>\n",
    "<CLINGO\n",
    "\n",
    "composite(N) :- N=1..12 , I=2..N-1, N\\I=0.\n",
    ":- diceA(A), diceB(B), composite(N), A+B = N.\n",
    "\n",
    "\n",
    "CLINGO>\n",
    "</Blockquote>"
   ],
   "metadata": {
    "collapsed": false,
    "pycharm": {
     "name": "#%% md\n"
    }
   }
  },
  {
   "cell_type": "code",
   "execution_count": 97,
   "outputs": [
    {
     "name": "stdout",
     "output_type": "stream",
     "text": [
      "[['composite(4)', 'composite(6)', 'composite(8)', 'composite(9)', 'composite(10)', 'composite(12)', 'diceB(1)', 'diceA(1)'], ['composite(4)', 'composite(6)', 'composite(8)', 'composite(9)', 'composite(10)', 'composite(12)', 'diceB(2)', 'diceA(1)'], ['composite(4)', 'composite(6)', 'composite(8)', 'composite(9)', 'composite(10)', 'composite(12)', 'diceB(1)', 'diceA(2)'], ['composite(4)', 'composite(6)', 'composite(8)', 'composite(9)', 'composite(10)', 'composite(12)', 'diceA(1)', 'diceB(6)'], ['composite(4)', 'composite(6)', 'composite(8)', 'composite(9)', 'composite(10)', 'composite(12)', 'diceB(2)', 'diceA(5)'], ['composite(4)', 'composite(6)', 'composite(8)', 'composite(9)', 'composite(10)', 'composite(12)', 'diceA(5)', 'diceB(6)'], ['composite(4)', 'composite(6)', 'composite(8)', 'composite(9)', 'composite(10)', 'composite(12)', 'diceA(2)', 'diceB(5)'], ['composite(4)', 'composite(6)', 'composite(8)', 'composite(9)', 'composite(10)', 'composite(12)', 'diceA(1)', 'diceB(4)'], ['composite(4)', 'composite(6)', 'composite(8)', 'composite(9)', 'composite(10)', 'composite(12)', 'diceB(1)', 'diceA(4)'], ['composite(4)', 'composite(6)', 'composite(8)', 'composite(9)', 'composite(10)', 'composite(12)', 'diceB(1)', 'diceA(6)'], ['composite(4)', 'composite(6)', 'composite(8)', 'composite(9)', 'composite(10)', 'composite(12)', 'diceB(5)', 'diceA(6)'], ['composite(4)', 'composite(6)', 'composite(8)', 'composite(9)', 'composite(10)', 'composite(12)', 'diceA(2)', 'diceB(3)'], ['composite(4)', 'composite(6)', 'composite(8)', 'composite(9)', 'composite(10)', 'composite(12)', 'diceB(3)', 'diceA(4)'], ['composite(4)', 'composite(6)', 'composite(8)', 'composite(9)', 'composite(10)', 'composite(12)', 'diceA(3)', 'diceB(2)'], ['composite(4)', 'composite(6)', 'composite(8)', 'composite(9)', 'composite(10)', 'composite(12)', 'diceA(3)', 'diceB(4)']]\n"
     ]
    }
   ],
   "source": [
    "print(interface.problems[1].solution.solutions)"
   ],
   "metadata": {
    "collapsed": false,
    "pycharm": {
     "name": "#%%\n"
    }
   }
  },
  {
   "cell_type": "markdown",
   "source": [
    "We can show singular elements like this:\n",
    "<Blockquote>\n",
    "<CLINGO\n",
    "\n",
    "#show diceA/1.\n",
    "#show diceB/1.\n",
    "\n",
    "CLINGO>\n",
    "</Blockquote>"
   ],
   "metadata": {
    "collapsed": false,
    "pycharm": {
     "name": "#%% md\n"
    }
   }
  },
  {
   "cell_type": "code",
   "execution_count": 99,
   "outputs": [
    {
     "name": "stdout",
     "output_type": "stream",
     "text": [
      "The chance to roll a prime with two dices is:  0.4166666666666667\n"
     ]
    }
   ],
   "source": [
    "prime_outcomes=len(interface.problems[2].solution.solutions)\n",
    "\n",
    "print(\"The chance to roll a prime with two dices is: \", prime_outcomes/36)\n"
   ],
   "metadata": {
    "collapsed": false,
    "pycharm": {
     "name": "#%%\n"
    }
   }
  }
 ],
 "metadata": {
  "kernelspec": {
   "display_name": "Python 3",
   "language": "python",
   "name": "python3"
  },
  "language_info": {
   "codemirror_mode": {
    "name": "ipython",
    "version": 2
   },
   "file_extension": ".py",
   "mimetype": "text/x-python",
   "name": "python",
   "nbconvert_exporter": "python",
   "pygments_lexer": "ipython2",
   "version": "2.7.6"
  }
 },
 "nbformat": 4,
 "nbformat_minor": 0
}