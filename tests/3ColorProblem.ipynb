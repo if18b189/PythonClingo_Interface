{
 "cells": [
  {
   "cell_type": "code",
   "execution_count": 1,
   "outputs": [
    {
     "name": "stdout",
     "output_type": "stream",
     "text": [
      "C:\\Users\\Oskar\\PycharmProjects\\PythonClingo_Interface\\tests\n",
      "ClingoInterface: jupyterParenthesis: scanning all subfolders of \"PythonClingo_Interface\"(folder) recursively for .ipynb\n",
      "Found .ipynb Files: ['C:\\\\Users\\\\Oskar\\\\PycharmProjects\\\\PythonClingo_Interface\\\\setup.py', 'C:\\\\Users\\\\Oskar\\\\PycharmProjects\\\\PythonClingo_Interface\\\\src\\\\pythonclingointerface\\\\clingo_interface.py', 'C:\\\\Users\\\\Oskar\\\\PycharmProjects\\\\PythonClingo_Interface\\\\tests\\\\pyTest.py', 'C:\\\\Users\\\\Oskar\\\\PycharmProjects\\\\PythonClingo_Interface\\\\requirements.txt', 'C:\\\\Users\\\\Oskar\\\\PycharmProjects\\\\PythonClingo_Interface\\\\tests\\\\3ColorProblem.ipynb', 'C:\\\\Users\\\\Oskar\\\\PycharmProjects\\\\PythonClingo_Interface\\\\tests\\\\CalenderProblem.ipynb', 'C:\\\\Users\\\\Oskar\\\\PycharmProjects\\\\PythonClingo_Interface\\\\tests\\\\pyTest.ipynb', 'C:\\\\Users\\\\Oskar\\\\PycharmProjects\\\\PythonClingo_Interface\\\\tests\\\\test.ipynb']\n",
      "Reading File:  C:\\Users\\Oskar\\PycharmProjects\\PythonClingo_Interface\\setup.py\n",
      "Reading File:  C:\\Users\\Oskar\\PycharmProjects\\PythonClingo_Interface\\src\\pythonclingointerface\\clingo_interface.py\n",
      "Found Clingo Parenthesis in File:  C:\\Users\\Oskar\\PycharmProjects\\PythonClingo_Interface\\src\\pythonclingointerface\\clingo_interface.py\n",
      "\n"
     ]
    }
   ],
   "source": [
    "%load_ext autoreload\n",
    "%autoreload 2\n",
    "%reload_ext autoreload\n",
    "\n",
    "import os\n",
    "import pythonclingointerface.clingo_interface as cl\n",
    "\n",
    "#Clingo Code für den Problem\n",
    "\n",
    "\n",
    "\n",
    "\n",
    "path=os.path.abspath(os.getcwd())\n",
    "print(path)\n",
    "cli=cl.ClingoInterface()\n",
    "# cli.problems\n",
    "# cli.checkParenthesis(directoryName=\"tests\")\n",
    "cli.checkParenthesis()\n",
    "# os.path.abspath(\"\").split(\"\\\\\")\n",
    "\n",
    "\n"
   ],
   "metadata": {
    "collapsed": false,
    "pycharm": {
     "name": "#%%\n"
    }
   }
  },
  {
   "cell_type": "markdown",
   "source": [
    "<CLINGO\n",
    "\n",
    "\n",
    "CLINGO>\n",
    "\n"
   ],
   "metadata": {
    "collapsed": false,
    "pycharm": {
     "name": "#%% md\n"
    }
   }
  }
 ],
 "metadata": {
  "kernelspec": {
   "name": "pycharm-248c6e36",
   "language": "python",
   "display_name": "PyCharm (PythonClingo_Interface)"
  },
  "language_info": {
   "codemirror_mode": {
    "name": "ipython",
    "version": 2
   },
   "file_extension": ".py",
   "mimetype": "text/x-python",
   "name": "python",
   "nbconvert_exporter": "python",
   "pygments_lexer": "ipython2",
   "version": "2.7.6"
  }
 },
 "nbformat": 4,
 "nbformat_minor": 0
}