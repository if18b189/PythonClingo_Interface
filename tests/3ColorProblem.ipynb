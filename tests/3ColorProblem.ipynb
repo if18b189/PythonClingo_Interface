{
 "cells": [
  {
   "cell_type": "code",
   "execution_count": 2,
   "metadata": {
    "collapsed": true
   },
   "outputs": [
    {
     "name": "stdout",
     "output_type": "stream",
     "text": [
      "ClingoInterface: jupyterParenthesis: scanning all subfolders of \"PythonClingo_Interface\"(folder) recursively for .ipynb\n",
      "Found .ipynb Files: ['C:\\\\Users\\\\Oskar\\\\PycharmProjects\\\\PythonClingo_Interface\\\\setup.py', 'C:\\\\Users\\\\Oskar\\\\PycharmProjects\\\\PythonClingo_Interface\\\\src\\\\pythonclingointerface\\\\clingo_interface.py', 'C:\\\\Users\\\\Oskar\\\\PycharmProjects\\\\PythonClingo_Interface\\\\tests\\\\pyTest.py', 'C:\\\\Users\\\\Oskar\\\\PycharmProjects\\\\PythonClingo_Interface\\\\requirements.txt', 'C:\\\\Users\\\\Oskar\\\\PycharmProjects\\\\PythonClingo_Interface\\\\tests\\\\3ColorProblem.ipynb', 'C:\\\\Users\\\\Oskar\\\\PycharmProjects\\\\PythonClingo_Interface\\\\tests\\\\pyTest.ipynb', 'C:\\\\Users\\\\Oskar\\\\PycharmProjects\\\\PythonClingo_Interface\\\\tests\\\\test.ipynb']\n",
      "Reading File:  C:\\Users\\Oskar\\PycharmProjects\\PythonClingo_Interface\\setup.py\n",
      "Reading File:  C:\\Users\\Oskar\\PycharmProjects\\PythonClingo_Interface\\src\\pythonclingointerface\\clingo_interface.py\n",
      "Found Clingo Parenthesis in File:  C:\\Users\\Oskar\\PycharmProjects\\PythonClingo_Interface\\src\\pythonclingointerface\\clingo_interface.py\n",
      "\n"
     ]
    }
   ],
   "source": [
    "import pythonclingointerface.clingo_interface as cl\n",
    "\n",
    "#Clingo Code für den Problem\n",
    "\"\"\"\n",
    "<CLINGO\n",
    "\n",
    "\n",
    "CLINGO>\n",
    "\"\"\"\n",
    "\n",
    "\n",
    "cli=cl.ClingoInterface()\n",
    "solutions=cli.checkParenthesis()\n",
    "\n",
    "\n",
    "\n"
   ]
  }
 ],
 "metadata": {
  "kernelspec": {
   "display_name": "Python 3",
   "language": "python",
   "name": "python3"
  },
  "language_info": {
   "codemirror_mode": {
    "name": "ipython",
    "version": 2
   },
   "file_extension": ".py",
   "mimetype": "text/x-python",
   "name": "python",
   "nbconvert_exporter": "python",
   "pygments_lexer": "ipython2",
   "version": "2.7.6"
  }
 },
 "nbformat": 4,
 "nbformat_minor": 0
}