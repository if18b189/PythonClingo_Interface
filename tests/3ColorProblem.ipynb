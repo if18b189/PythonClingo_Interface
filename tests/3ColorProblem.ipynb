{
 "cells": [
  {
   "cell_type": "code",
   "execution_count": null,
   "metadata": {
    "collapsed": true
   },
   "outputs": [],
   "source": [
    "import pythonclingointerface.clingo_interface as cl\n",
    "\n",
    "#Clingo Code für den Problem\n",
    "\"\"\"\n",
    "<CLINGO\n",
    "\n",
    "\n",
    "CLINGO>\n",
    "\"\"\"\n",
    "\n",
    "\n",
    "cli=cl.ClingoInterface\n",
    "solutions=cli.checkParenthesis()\n",
    "\n",
    "\n",
    "\n"
   ]
  }
 ],
 "metadata": {
  "kernelspec": {
   "display_name": "Python 3",
   "language": "python",
   "name": "python3"
  },
  "language_info": {
   "codemirror_mode": {
    "name": "ipython",
    "version": 2
   },
   "file_extension": ".py",
   "mimetype": "text/x-python",
   "name": "python",
   "nbconvert_exporter": "python",
   "pygments_lexer": "ipython2",
   "version": "2.7.6"
  }
 },
 "nbformat": 4,
 "nbformat_minor": 0
}