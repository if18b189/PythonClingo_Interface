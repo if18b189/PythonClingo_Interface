{
 "cells": [
  {
   "cell_type": "markdown",
   "source": [
    "<CLINGO\n",
    "\n",
    "#script (python)\n",
    "\n",
    "import clingo\n",
    "\n",
    "def main(prg):\n",
    "    def on_model(m):\n",
    "        m.context.add_clause([(clingo.Function(\"a\"), False), (clingo.Function(\"b\"), False)])\n",
    "        m.context.add_nogood([(clingo.Function(\"c\"), True), (clingo.Function(\"d\"), True)])\n",
    "\n",
    "    prg.configuration.solve.models = 0\n",
    "    prg.ground([(\"base\", [])])\n",
    "    prg.solve(on_model=on_model)\n",
    "    print (\"and again\")\n",
    "    prg.solve()\n",
    "\n",
    "#end.\n",
    "\n",
    "2 { a; b; c; d }.\n",
    "\n",
    "CLINGO>\n",
    "\n"
   ],
   "metadata": {
    "collapsed": false
   }
  },
  {
   "cell_type": "code",
   "execution_count": 3,
   "outputs": [
    {
     "name": "stdout",
     "output_type": "stream",
     "text": [
      "The autoreload extension is already loaded. To reload it, use:\n",
      "  %reload_ext autoreload\n",
      "ClingoInterface: jupyterParenthesis: scanning all subfolders of \"PythonClingo_Interface\"(folder) recursively for .ipynb\n",
      "Found .ipynb Files: ['D:\\\\Users\\\\Q\\\\PycharmProjects\\\\PythonClingo_Interface\\\\setup.py', 'D:\\\\Users\\\\Q\\\\PycharmProjects\\\\PythonClingo_Interface\\\\src\\\\pythonclingointerface\\\\clingo_interface.py', 'D:\\\\Users\\\\Q\\\\PycharmProjects\\\\PythonClingo_Interface\\\\src\\\\pythonclingointerface\\\\main.py', 'D:\\\\Users\\\\Q\\\\PycharmProjects\\\\PythonClingo_Interface\\\\tests\\\\pyTest.py', 'D:\\\\Users\\\\Q\\\\PycharmProjects\\\\PythonClingo_Interface\\\\src\\\\pythonclingointerface\\\\requirements.txt', 'D:\\\\Users\\\\Q\\\\PycharmProjects\\\\PythonClingo_Interface\\\\tests\\\\clingoCodeExample.txt', 'D:\\\\Users\\\\Q\\\\PycharmProjects\\\\PythonClingo_Interface\\\\tests\\\\clingoInterfaceTemp_dige4z62.txt', 'D:\\\\Users\\\\Q\\\\PycharmProjects\\\\PythonClingo_Interface\\\\tests\\\\clingoInterfaceTemp_hoj83ijo.txt', 'D:\\\\Users\\\\Q\\\\PycharmProjects\\\\PythonClingo_Interface\\\\tests\\\\clingoInterfaceTemp_hw6ls_gs.txt', 'D:\\\\Users\\\\Q\\\\PycharmProjects\\\\PythonClingo_Interface\\\\tests\\\\clingoInterfaceTemp_ru0msqea.txt', 'D:\\\\Users\\\\Q\\\\PycharmProjects\\\\PythonClingo_Interface\\\\tests\\\\clingoInterfaceTemp_xl63y1az.txt', 'D:\\\\Users\\\\Q\\\\PycharmProjects\\\\PythonClingo_Interface\\\\tests\\\\clingoInterfaceTemp_yj510juo.txt', 'D:\\\\Users\\\\Q\\\\PycharmProjects\\\\PythonClingo_Interface\\\\tests\\\\test.ipynb']\n",
      "Reading File:  D:\\Users\\Q\\PycharmProjects\\PythonClingo_Interface\\setup.py\n",
      "Reading File:  D:\\Users\\Q\\PycharmProjects\\PythonClingo_Interface\\src\\pythonclingointerface\\clingo_interface.py\n",
      "Found Clingo Parenthesis in File:  D:\\Users\\Q\\PycharmProjects\\PythonClingo_Interface\\src\\pythonclingointerface\\clingo_interface.py\n",
      "\n",
      "[]\n"
     ]
    }
   ],
   "source": [
    "%load_ext autoreload\n",
    "%autoreload 2\n",
    "\n",
    "import os\n",
    "\n",
    "from pythonclingointerface import clingo_interface\n",
    "\n",
    "\n",
    "test = clingo_interface.ClingoInterface()\n",
    "pathList = test.checkParenthesis()\n",
    "# test.run(pathList)\n",
    "test.printSolutions()\n",
    "\n",
    "\n",
    "# print(os.getcwd().split(\"\\\\\")[0:-1])\n",
    "\n",
    "#print(os.path.join(os.path.abspath(\"../../\")))\n",
    "\n",
    "\n",
    "\n",
    "# print(test.solutions)\n",
    "# for i in test.solutions:\n",
    "#     print(i.text)\n",
    "#     print(i.solutions)\n",
    "#\n",
    "\n",
    "\n",
    "# print(clingo.solutions[0])\n",
    "\n",
    "# from pythonclingointerface import test\n",
    "#\n",
    "# object = test.klasse()\n",
    "# object.test()"
   ],
   "metadata": {
    "collapsed": false,
    "pycharm": {
     "name": "#%%\n"
    }
   }
  }
 ],
 "metadata": {
  "kernelspec": {
   "name": "python3",
   "language": "python",
   "display_name": "Python 3"
  },
  "language_info": {
   "codemirror_mode": {
    "name": "ipython",
    "version": 2
   },
   "file_extension": ".py",
   "mimetype": "text/x-python",
   "name": "python",
   "nbconvert_exporter": "python",
   "pygments_lexer": "ipython2",
   "version": "2.7.6"
  }
 },
 "nbformat": 4,
 "nbformat_minor": 0
}