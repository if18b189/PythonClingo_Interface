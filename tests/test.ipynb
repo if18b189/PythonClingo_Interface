{
 "cells": [
  {
   "cell_type": "code",
   "execution_count": null,
   "metadata": {
    "collapsed": true
   },
   "outputs": [],
   "source": [
    "lorem ipsum dolor sit amet\n",
    "\n",
    "\n",
    "<CLINGO\n",
    "\n",
    "#script (python)\n",
    "\n",
    "import clingo\n",
    "\n",
    "def main(prg):\n",
    "    def on_model(m):\n",
    "        m.context.add_clause([(clingo.Function(\"a\"), False), (clingo.Function(\"b\"), False)])\n",
    "        m.context.add_nogood([(clingo.Function(\"c\"), True), (clingo.Function(\"d\"), True)])\n",
    "\n",
    "    prg.configuration.solve.models = 0\n",
    "    prg.ground([(\"base\", [])])\n",
    "    prg.solve(on_model=on_model)\n",
    "    print (\"and again\")\n",
    "    prg.solve()\n",
    "\n",
    "#end.\n",
    "\n",
    "2 { a; b; c; d }.\n",
    "\n",
    "\n",
    "CLINGO>\n",
    "\n",
    "\n",
    "lorem ipsum dolor sit amet"
   ]
  }
 ],
 "metadata": {
  "kernelspec": {
   "display_name": "Python 3",
   "language": "python",
   "name": "python3"
  },
  "language_info": {
   "codemirror_mode": {
    "name": "ipython",
    "version": 2
   },
   "file_extension": ".py",
   "mimetype": "text/x-python",
   "name": "python",
   "nbconvert_exporter": "python",
   "pygments_lexer": "ipython2",
   "version": "2.7.6"
  },
  "pycharm": {
   "stem_cell": {
    "cell_type": "raw",
    "source": [],
    "metadata": {
     "collapsed": false
    }
   }
  }
 },
 "nbformat": 4,
 "nbformat_minor": 0
}