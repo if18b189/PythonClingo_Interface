{
 "cells": [
  {
   "cell_type": "code",
   "execution_count": 3,
   "outputs": [
    {
     "name": "stdout",
     "output_type": "stream",
     "text": [
      "The autoreload extension is already loaded. To reload it, use:\n",
      "  %reload_ext autoreload\n"
     ]
    }
   ],
   "source": [
    "%load_ext autoreload\n",
    "%autoreload 2\n",
    "%reload_ext autoreload\n",
    "import os\n",
    "import pythonclingointerface.clingo_interface as cl\n",
    "import matplotlib.pyplot as plt\n",
    "#Clingo Code für den Problem\n",
    "\n",
    "\n",
    "\n",
    "\n",
    "# cli=cl.ClingoInterface()\n",
    "# cli.checkParenthesis(directoryName=\"tests\")\n",
    "# for i in cli.problems:\n",
    "#     print(i.solution.solutions)\n",
    "\n",
    "\n",
    "# colors={0:\"unspecified\",1:\"red\",2:\"blue\",3:\"green\"}\n",
    "# class country:\n",
    "#     def __init__(self):\n",
    "#         self.name:str\n",
    "#         self.color:str\n",
    "#\n",
    "# class map:\n",
    "#     def __init__(self):\n",
    "#         self.countries=[]\n",
    "#\n",
    "#     def addCountry(self, name, neigbours, color=colors[0]):\n",
    "#         \"\"\"Adds a new country.\n",
    "#             Countries[(Country object, [Neigbours]),(Country object, [Neigbours])]\n",
    "#         \"\"\"\n",
    "#         if(type(neigbours)==list):\n",
    "#             newCountry=country()\n",
    "#             newCountry.name=name\n",
    "#             newCountry.color=color\n",
    "#             self.countries.append((newCountry,neigbours))\n",
    "#\n",
    "#\n",
    "# Test1=map()\n",
    "# Test1.addCountry(\"ctr1\",[1,2,3])\n",
    "# Test1.addCountry(\"ctr2\",[])\n",
    "#\n",
    "# circle1 = plt.Circle((0.1, 0.1), 0.1, color='r')\n",
    "# circle2 = plt.Circle((0.1, 0.5), 0.1, color='blue')\n",
    "# circle3 = plt.Circle((0.5, 0.5), 0.1, color='white')\n",
    "#\n",
    "# fig, ax = plt.subplots()\n",
    "#\n",
    "# ax.add_patch(circle1)\n",
    "# ax.add_patch(circle2)\n",
    "# ax.add_patch(circle3)\n",
    "\n",
    "\n"
   ],
   "metadata": {
    "collapsed": false,
    "pycharm": {
     "name": "#%%\n"
    }
   }
  },
  {
   "cell_type": "markdown",
   "source": [
    "<CLINGO\n",
    "% Nodes\n",
    "2 node(1..6).\n",
    "3 % (Directed) Edges\n",
    "4 edge(1,2;3;4). edge(2,4;5;6). edge(3,1;4;5).\n",
    "5 edge(4,1;2). edge(5,3;4;6). edge(6,2;3;5).\n",
    "\n",
    "CLINGO>\n"
   ],
   "metadata": {
    "collapsed": false,
    "pycharm": {
     "name": "#%% md\n"
    }
   }
  },
  {
   "cell_type": "code",
   "execution_count": 8,
   "outputs": [],
   "source": [
    "from scipy.spatial import Voronoi, voronoi_plot_2d\n",
    "import numpy as np"
   ],
   "metadata": {
    "collapsed": false,
    "pycharm": {
     "name": "#%%\n"
    }
   }
  },
  {
   "cell_type": "code",
   "execution_count": 25,
   "outputs": [
    {
     "name": "stdout",
     "output_type": "stream",
     "text": [
      "ClingoInterface: jupyterParenthesis: scanning all subfolders of \"PythonClingo_Interface\"(folder) recursively for .ipynb\n",
      "Found .ipynb Files: ['C:\\\\Users\\\\Oskar\\\\PycharmProjects\\\\PythonClingo_Interface\\\\setup.py', 'C:\\\\Users\\\\Oskar\\\\PycharmProjects\\\\PythonClingo_Interface\\\\src\\\\pythonclingointerface\\\\clingo_interface.py', 'C:\\\\Users\\\\Oskar\\\\PycharmProjects\\\\PythonClingo_Interface\\\\tests\\\\pyTest.py', 'C:\\\\Users\\\\Oskar\\\\PycharmProjects\\\\PythonClingo_Interface\\\\requirements.txt', 'C:\\\\Users\\\\Oskar\\\\PycharmProjects\\\\PythonClingo_Interface\\\\tests\\\\3ColorProblem.ipynb', 'C:\\\\Users\\\\Oskar\\\\PycharmProjects\\\\PythonClingo_Interface\\\\tests\\\\CalenderProblem.ipynb', 'C:\\\\Users\\\\Oskar\\\\PycharmProjects\\\\PythonClingo_Interface\\\\tests\\\\pyTest.ipynb', 'C:\\\\Users\\\\Oskar\\\\PycharmProjects\\\\PythonClingo_Interface\\\\tests\\\\test.ipynb']\n",
      "Reading File:  C:\\Users\\Oskar\\PycharmProjects\\PythonClingo_Interface\\setup.py\n",
      "Reading File:  C:\\Users\\Oskar\\PycharmProjects\\PythonClingo_Interface\\src\\pythonclingointerface\\clingo_interface.py\n",
      "Found Clingo Parenthesis in File:  C:\\Users\\Oskar\\PycharmProjects\\PythonClingo_Interface\\src\\pythonclingointerface\\clingo_interface.py\n"
     ]
    }
   ],
   "source": [
    "# points = np.array([[0, 0], [0.2, 1], [1, 0], [1, 2], [2, 1.2], [2.4, 2]])\n",
    "# vor = Voronoi(points)\n",
    "# fig = voronoi_plot_2d(vor)\n",
    "# plt.show()\n",
    "# vor.ridge_points\n",
    "\n",
    "from src.pythonclingointerface.clingo_interface import *\n",
    "\n",
    "\n",
    "interface=ClingoInterface()\n",
    "interface.checkParenthesis()\n"
   ],
   "metadata": {
    "collapsed": false,
    "pycharm": {
     "name": "#%%\n"
    }
   }
  },
  {
   "cell_type": "code",
   "execution_count": null,
   "outputs": [],
   "source": [],
   "metadata": {
    "collapsed": false,
    "pycharm": {
     "name": "#%%\n"
    }
   }
  }
 ],
 "metadata": {
  "kernelspec": {
   "name": "pycharm-248c6e36",
   "language": "python",
   "display_name": "PyCharm (PythonClingo_Interface)"
  },
  "language_info": {
   "codemirror_mode": {
    "name": "ipython",
    "version": 2
   },
   "file_extension": ".py",
   "mimetype": "text/x-python",
   "name": "python",
   "nbconvert_exporter": "python",
   "pygments_lexer": "ipython2",
   "version": "2.7.6"
  }
 },
 "nbformat": 4,
 "nbformat_minor": 0
}