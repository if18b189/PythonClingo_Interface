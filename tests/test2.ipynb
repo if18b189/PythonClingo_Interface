{
 "cells": [
  {
   "cell_type": "code",
   "execution_count": 0,
   "metadata": {
    "collapsed": true,
    "jupyter": {
     "outputs_hidden": true
    }
   },
   "outputs": [],
   "source": []
  },
  {
   "cell_type": "markdown",
   "metadata": {
    "pycharm": {
     "name": "#%% md\n"
    }
   },
   "source": [
    "<CLINGO\n",
    "\n",
    "#script (python)\n",
    "\n",
    "import clingo\n",
    "\n",
    "def main(prg):\n",
    "    def on_model(m):\n",
    "        m.context.add_clause([(clingo.Function(\"a\"), False), (clingo.Function(\"b\"), False)])\n",
    "        m.context.add_nogood([(clingo.Function(\"c\"), True), (clingo.Function(\"d\"), True)])\n",
    "\n",
    "    prg.configuration.solve.models = 0\n",
    "    prg.ground([(\"base\", [])])\n",
    "    prg.solve(on_model=on_model)\n",
    "    print (\"and again\")\n",
    "    prg.solve()\n",
    "\n",
    "#end.\n",
    "\n",
    "2 { a; b; c; d }.\n",
    "\n",
    "CLINGO>"
   ]
  },
  {
   "cell_type": "raw",
   "source": [
    "\n"
   ],
   "metadata": {
    "collapsed": false
   }
  },
  {
   "cell_type": "raw",
   "metadata": {},
   "source": [
    "\n"
   ]
  }
 ],
 "metadata": {
  "kernelspec": {
   "name": "python3",
   "language": "python",
   "display_name": "Python 3"
  },
  "language_info": {
   "codemirror_mode": {
    "name": "ipython",
    "version": 3
   },
   "file_extension": ".py",
   "mimetype": "text/x-python",
   "name": "python",
   "nbconvert_exporter": "python",
   "pygments_lexer": "ipython3",
   "version": "3.8.5"
  }
 },
 "nbformat": 4,
 "nbformat_minor": 4
}