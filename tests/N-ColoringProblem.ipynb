{
 "cells": [
  {
   "cell_type": "markdown",
   "metadata": {
    "collapsed": true,
    "pycharm": {
     "name": "#%% md\n"
    }
   },
   "source": [
    "<h1 align=\"center\">N-Coloring Problem</h1>\n",
    "\n",
    "<h3> Description </h3>\n",
    "\n",
    "Source: https://www.cs.utexas.edu/users/vl/teaching/lbai/clingo_guide.pdf#subsection.4.1\n",
    "\n",
    "\n",
    "<h3> Clingo </h3>\n",
    "\n",
    "<CLINGO\n",
    "\n",
    "    % Nodes\n",
    "    node(1..6).\n",
    "    % (Directed) Edges\n",
    "    edge(1,2;3;4).  edge(2,4;5;6).  edge(3,1;4;5).\n",
    "    edge(4,1;2).    edge(5,3;4;6).  edge(6,2;3;5).\n",
    "\n",
    "\n",
    "    % Default\n",
    "    #const n = 3.\n",
    "    % Generate\n",
    "    1 { color(X,1..n) } 1 :- node(X).\n",
    "    % Test\n",
    "    :- edge(X,Y), color(X,C), color(Y,C).\n",
    "\n",
    "\n",
    "CLINGO>"
   ]
  },
  {
   "cell_type": "code",
   "execution_count": 2,
   "outputs": [
    {
     "name": "stdout",
     "output_type": "stream",
     "text": [
      "ClingoInterface: scanning N-ColoringProblem.ipynb\n",
      "['D:\\\\Users\\\\Q\\\\PycharmProjects\\\\PythonClingo_Interface\\\\tests\\\\N-ColoringProblem.ipynb']\n",
      "Reading File:  D:\\Users\\Q\\PycharmProjects\\PythonClingo_Interface\\tests\\N-ColoringProblem.ipynb\n",
      "Found Clingo Parenthesis in File:  D:\\Users\\Q\\PycharmProjects\\PythonClingo_Interface\\tests\\N-ColoringProblem.ipynb\n",
      "\n",
      "    % Nodes\n",
      "    node(1..6).\n",
      "    % (Directed) Edges\n",
      "    edge(1,2;3;4).  edge(2,4;5;6).  edge(3,1;4;5).\n",
      "    edge(4,1;2).    edge(5,3;4;6).  edge(6,2;3;5).\n",
      "\n",
      "\n",
      "    % Default\n",
      "    #const n = 3.\n",
      "    % Generate\n",
      "    1 { color(X,1..n) } 1 :- node(X).\n",
      "    % Test\n",
      "    :- edge(X,Y), color(X,C), color(Y,C).\n",
      "\n",
      "\n",
      "\n",
      "[<pythonclingointerface.clingo_interface.ClingoProblem object at 0x000002071F965048>]\n",
      "Problem Name\n",
      "[['node(1)', 'node(2)', 'node(3)', 'node(4)', 'node(5)', 'node(6)', 'edge(1,2)', 'edge(2,4)', 'edge(3,1)', 'edge(4,1)', 'edge(5,3)', 'edge(6,2)', 'edge(3)', 'edge(4)', 'edge(5)', 'edge(6)', 'edge(2)', 'color(2,2)', 'color(1,3)', 'color(4,1)', 'color(3,2)', 'color(5,1)', 'color(6,3)']]\n"
     ]
    }
   ],
   "source": [
    "%load_ext autoreload\n",
    "%autoreload 2\n",
    "\n",
    "from pythonclingointerface import clingo_interface as ci\n",
    "\n",
    "\n",
    "interface = ci.ClingoInterface()\n",
    "interface.checkParenthesis()\n",
    "interface.printSolutions()"
   ],
   "metadata": {
    "collapsed": false,
    "pycharm": {
     "name": "#%%\n"
    }
   }
  }
 ],
 "metadata": {
  "kernelspec": {
   "display_name": "Python 3",
   "language": "python",
   "name": "python3"
  },
  "language_info": {
   "codemirror_mode": {
    "name": "ipython",
    "version": 2
   },
   "file_extension": ".py",
   "mimetype": "text/x-python",
   "name": "python",
   "nbconvert_exporter": "python",
   "pygments_lexer": "ipython2",
   "version": "2.7.6"
  }
 },
 "nbformat": 4,
 "nbformat_minor": 0
}