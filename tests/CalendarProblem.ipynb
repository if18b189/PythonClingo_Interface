{
 "cells": [
  {
   "cell_type": "markdown",
   "source": [
    "<h1 align=\"center\">Calendar Problem</h1>\n",
    "\n",
    "<h3> Description </h3>\n",
    "\n",
    "\n",
    "\n",
    "\n",
    "<h3> Clingo </h3>\n",
    "\n",
    "<CLINGO\n",
    "\n",
    "#script (python)\n",
    "\n",
    "import clingo\n",
    "\n",
    "def main(prg):\n",
    "    def on_model(m):\n",
    "        m.context.add_clause([(clingo.Function(\"a\"), False), (clingo.Function(\"b\"), False)])\n",
    "        m.context.add_nogood([(clingo.Function(\"c\"), True), (clingo.Function(\"d\"), True)])\n",
    "\n",
    "    prg.configuration.solve.models = 0\n",
    "    prg.ground([(\"base\", [])])\n",
    "    prg.solve(on_model=on_model)\n",
    "    print (\"and again\")\n",
    "    prg.solve()\n",
    "\n",
    "#end.\n",
    "\n",
    "2 { a; b; c; d }.\n",
    "\n",
    "CLINGO>"
   ],
   "metadata": {
    "collapsed": false,
    "pycharm": {
     "name": "#%% md\n"
    }
   }
  },
  {
   "cell_type": "code",
   "execution_count": 26,
   "metadata": {
    "collapsed": true,
    "pycharm": {
     "name": "#%%\n"
    }
   },
   "outputs": [
    {
     "name": "stdout",
     "output_type": "stream",
     "text": [
      "The autoreload extension is already loaded. To reload it, use:\n",
      "  %reload_ext autoreload\n",
      "ClingoInterface: scanning CalendarProblem.ipynb\n",
      "['D:\\\\Users\\\\Q\\\\PycharmProjects\\\\PythonClingo_Interface\\\\tests\\\\CalendarProblem.ipynb']\n",
      "Reading File:  D:\\Users\\Q\\PycharmProjects\\PythonClingo_Interface\\tests\\CalendarProblem.ipynb\n",
      "Found Clingo Parenthesis in File:  D:\\Users\\Q\\PycharmProjects\\PythonClingo_Interface\\tests\\CalendarProblem.ipynb\n",
      "\n",
      "#script (python)\n",
      "\n",
      "import clingo\n",
      "\n",
      "def main(prg):\n",
      "    def on_model(m):\n",
      "        m.context.add_clause([(clingo.Function(\"a\"), False), (clingo.Function(\"b\"), False)])\n",
      "        m.context.add_nogood([(clingo.Function(\"c\"), True), (clingo.Function(\"d\"), True)])\n",
      "\n",
      "    prg.configuration.solve.models = 0\n",
      "    prg.ground([(\"base\", [])])\n",
      "    prg.solve(on_model=on_model)\n",
      "    print (\"and again\")\n",
      "    prg.solve()\n",
      "\n",
      "#end.\n",
      "\n",
      "2 { a; b; c; d }.\n",
      "\n",
      "\n",
      "[<pythonclingointerface.clingo_interface.ClingoProblem object at 0x00000130534E87C8>]\n",
      "Problem Name\n",
      "[['b', 'a'], ['c', 'b'], ['c', 'a'], ['d', 'b'], ['d', 'a'], ['b', 'a'], ['c', 'b'], ['c', 'a'], ['c', 'b', 'a'], ['d', 'c'], ['d', 'a'], ['d', 'c', 'a'], ['d', 'b'], ['d', 'b', 'a'], ['d', 'c', 'b'], ['d', 'c', 'b', 'a']]\n"
     ]
    }
   ],
   "source": [
    "%load_ext autoreload\n",
    "%autoreload 2\n",
    "\n",
    "from pythonclingointerface import clingo_interface as ci\n",
    "\n",
    "\n",
    "interface = ci.ClingoInterface()\n",
    "interface.checkParenthesis()\n",
    "interface.printSolutions()\n",
    "\n",
    "\n"
   ]
  }
 ],
 "metadata": {
  "kernelspec": {
   "name": "pythonclingo_interface",
   "language": "python",
   "display_name": "PythonClingo_Interface"
  },
  "language_info": {
   "codemirror_mode": {
    "name": "ipython",
    "version": 2
   },
   "file_extension": ".py",
   "mimetype": "text/x-python",
   "name": "python",
   "nbconvert_exporter": "python",
   "pygments_lexer": "ipython2",
   "version": "2.7.6"
  }
 },
 "nbformat": 4,
 "nbformat_minor": 0
}