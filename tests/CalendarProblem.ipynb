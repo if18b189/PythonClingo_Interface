{
 "cells": [
  {
   "cell_type": "markdown",
   "source": [
    "<h1 align=\"center\">Calendar Problem</h1>\n",
    "\n",
    "<h3> Description </h3>\n",
    "\n",
    "\n",
    "\n",
    "\n",
    "<h3> Clingo </h3>\n",
    "\n",
    "<CLINGO\n",
    "\n",
    "    % Persons\n",
    "    person(jane).  person(john).\n",
    "\n",
    "    % Days\n",
    "    day(mon). day(tue). day(wed). day(thu). day(fri).\n",
    "\n",
    "    % Rules\n",
    "    available(jane) :- not on(fri).\n",
    "    available(john) :- not on(mon), not on(wed).\n",
    "    meet :- available(X) : person(X).\n",
    "\n",
    "    % Generate\n",
    "    #show on.\n",
    "    on(X) : day(X) :- meet.\n",
    "\n",
    "\n",
    "\n",
    "CLINGO>"
   ],
   "metadata": {
    "collapsed": false,
    "pycharm": {
     "name": "#%% md\n"
    }
   }
  },
  {
   "cell_type": "code",
   "execution_count": 60,
   "metadata": {
    "collapsed": true,
    "pycharm": {
     "name": "#%%\n"
    }
   },
   "outputs": [
    {
     "name": "stdout",
     "output_type": "stream",
     "text": [
      "The autoreload extension is already loaded. To reload it, use:\n",
      "  %reload_ext autoreload\n",
      "ClingoInterface: scanning CalendarProblem.ipynb\n",
      "['D:\\\\Users\\\\Q\\\\PycharmProjects\\\\PythonClingo_Interface\\\\tests\\\\CalendarProblem.ipynb']\n",
      "Reading File:  D:\\Users\\Q\\PycharmProjects\\PythonClingo_Interface\\tests\\CalendarProblem.ipynb\n",
      "Found Clingo Parenthesis in File:  D:\\Users\\Q\\PycharmProjects\\PythonClingo_Interface\\tests\\CalendarProblem.ipynb\n",
      "\n",
      "    % Persons\n",
      "    person(jane).  person(john).\n",
      "\n",
      "    % Days\n",
      "    day(mon). day(tue). day(wed). day(thu). day(fri).\n",
      "\n",
      "    % Rules\n",
      "    available(jane) :- not on(fri).\n",
      "    available(john) :- not on(mon), not on(wed).\n",
      "    meet :- available(X) : person(X).\n",
      "\n",
      "    % Generate\n",
      "    #show on.\n",
      "    on(X) : day(X) :- meet.\n",
      "\n",
      "\n",
      "\n",
      "\n",
      "[<pythonclingointerface.clingo_interface.ClingoProblem object at 0x000002786D0FD4C8>]\n",
      "Problem Name\n",
      "[['person(jane)', 'person(john)', 'day(mon)', 'day(tue)', 'day(wed)', 'day(thu)', 'day(fri)', 'on', 'available(jane)', 'available(john)', 'meet', 'on(thu)'], ['person(jane)', 'person(john)', 'day(mon)', 'day(tue)', 'day(wed)', 'day(thu)', 'day(fri)', 'on', 'available(jane)', 'available(john)', 'meet', 'on(tue)']]\n"
     ]
    }
   ],
   "source": [
    "%load_ext autoreload\n",
    "%autoreload 2\n",
    "\n",
    "from pythonclingointerface import clingo_interface as ci\n",
    "\n",
    "\n",
    "interface = ci.ClingoInterface()\n",
    "interface.checkParenthesis()\n",
    "interface.printSolutions()\n",
    "\n",
    "\n",
    "\n"
   ]
  }
 ],
 "metadata": {
  "kernelspec": {
   "name": "pythonclingo_interface",
   "language": "python",
   "display_name": "PythonClingo_Interface"
  },
  "language_info": {
   "codemirror_mode": {
    "name": "ipython",
    "version": 2
   },
   "file_extension": ".py",
   "mimetype": "text/x-python",
   "name": "python",
   "nbconvert_exporter": "python",
   "pygments_lexer": "ipython2",
   "version": "2.7.6"
  }
 },
 "nbformat": 4,
 "nbformat_minor": 0
}