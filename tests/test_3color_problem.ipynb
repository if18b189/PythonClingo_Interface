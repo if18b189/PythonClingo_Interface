{
 "cells": [
  {
   "cell_type": "markdown",
   "metadata": {
    "collapsed": true,
    "pycharm": {
     "name": "#%% md\n"
    }
   },
   "source": [
    "## Testing 3 Color Problem\n",
    "\n",
    "   #### Testing the PythonClingoInterface with the 3 color problem:\n",
    "\n",
    "1.  import the library\n",
    "2.  create an object\n",
    "3.  read the clingo expression from jupyter notebook\n",
    "4.  computer magic ???\n",
    "5.  output/return the results back into jupyter notebook\n",
    "6.  profit\n",
    "   \n",
    "Resources:\n",
    "    (insert good online documentations)\n",
    "   * Clingo documentation:\n",
    "   * jupyter cheat sheet:"
   ]
  },
  {
   "cell_type": "markdown",
   "source": [
    "### Importing"
   ],
   "metadata": {
    "collapsed": false
   }
  },
  {
   "cell_type": "code",
   "execution_count": 12,
   "outputs": [
    {
     "name": "stdout",
     "text": [
      "1.0.0-dev\n"
     ],
     "output_type": "stream"
    }
   ],
   "source": [
    "# Importing the library, usually as the alias np\n",
    "# import library as lib\n",
    "\n",
    "# Output the modules version\n",
    "import pythonclingointerface as pci\n",
    "\n",
    "print(pci.__version__)"
   ],
   "metadata": {
    "collapsed": false,
    "pycharm": {
     "name": "#%%\n",
     "is_executing": false
    }
   }
  },
  {
   "cell_type": "markdown",
   "source": [
    "### Testing the imported module"
   ],
   "metadata": {
    "collapsed": false
   }
  },
  {
   "cell_type": "code",
   "execution_count": 13,
   "outputs": [
    {
     "name": "stdout",
     "text": [
      "test\n"
     ],
     "output_type": "stream"
    }
   ],
   "source": [
    "obj = pci.ClingoInterface(\"test\")\n",
    "print(obj.execute())\n",
    "\n",
    "\n"
   ],
   "metadata": {
    "collapsed": false,
    "pycharm": {
     "name": "#%%\n",
     "is_executing": false
    }
   }
  }
 ],
 "metadata": {
  "kernelspec": {
   "display_name": "Python 3",
   "language": "python",
   "name": "python3"
  },
  "language_info": {
   "codemirror_mode": {
    "name": "ipython",
    "version": 2
   },
   "file_extension": ".py",
   "mimetype": "text/x-python",
   "name": "python",
   "nbconvert_exporter": "python",
   "pygments_lexer": "ipython2",
   "version": "2.7.6"
  },
  "pycharm": {
   "stem_cell": {
    "cell_type": "raw",
    "source": [],
    "metadata": {
     "collapsed": false
    }
   }
  }
 },
 "nbformat": 4,
 "nbformat_minor": 0
}