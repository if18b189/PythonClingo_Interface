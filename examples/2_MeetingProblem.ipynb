{
 "cells": [
  {
   "cell_type": "markdown",
   "source": [
    "<h1 align=\"center\">Meeting Problem</h1>\n",
    "\n",
    "<h3> Description </h3>\n",
    "\n",
    "In this example we are going to dissect [example (3.7)](https://www.cs.utexas.edu/users/vl/teaching/lbai/clingo_guide.pdf#subsubsection.3.1.8).\n",
    "This example illustrates how languages such as clingo can be used.\n",
    "\n",
    "In our example Jane and John want to schedule a meeting, but they are just not able to find the right day.\n",
    "It is the strength of languages such as Clingo to find a solution for this sort of problems.\n",
    "This is a very basic example but similar principles can be applied to solve more complex scheduling problems.\n",
    "\n",
    "<h3> Clingo </h3>\n",
    "\n",
    "<h4> Atoms / Variables </h4>\n",
    "\n",
    "In the following code snippet we are going to create the necessary atoms.\n",
    "In this example jane, john, mon, tue, ... are objects.\n",
    "\n",
    "The words preceding the objects are called predicates.\n",
    "Predicates symbolize properties and relations between 2 objects or variables.\n",
    "\n",
    "\n",
    "\n",
    "describe predicate\n",
    "\n",
    "describe predicate + list of terms = atom\n",
    "\n",
    "<blockquote>\n",
    "\n",
    "<CLINGO\n",
    "\n",
    "    person(jane).  person(john).\n",
    "    day(mon). day(tue). day(wed). day(thu). day(fri).\n",
    "\n",
    "CLINGO>\n",
    "\n",
    "</blockquote>\n",
    "\n",
    "<h4> Rules </h4>\n",
    "\n",
    "\n",
    "\n",
    "\n",
    "<blockquote>\n",
    "\n",
    "<CLINGO\n",
    "\n",
    "    available(jane) :- not on(fri).\n",
    "    available(john) :- not on(mon), not on(wed).\n",
    "    meet :- available(X) : person(X).\n",
    "\n",
    "CLINGO>\n",
    "\n",
    "</blockquote>\n",
    "\n",
    "<h4> Generating </h4>\n",
    "\n",
    "<blockquote>\n",
    "\n",
    "<CLINGO\n",
    "\n",
    "    on(X) : day(X) :- meet.\n",
    "    #show on/1.  % only shows atoms of this predicate\n",
    "\n",
    "CLINGO>\n",
    "\n",
    "</blockquote>\n"
   ],
   "metadata": {
    "collapsed": false
   }
  },
  {
   "cell_type": "code",
   "execution_count": 1,
   "outputs": [
    {
     "name": "stdout",
     "output_type": "stream",
     "text": [
      "TestID: \n",
      "275\n",
      "ClingoInterface: scanning 2_MeetingProblem.ipynb\n",
      "['D:\\\\Users\\\\Q\\\\PycharmProjects\\\\PythonClingo_Interface\\\\examples\\\\2_MeetingProblem.ipynb']\n",
      "Reading File:  D:\\Users\\Q\\PycharmProjects\\PythonClingo_Interface\\examples\\2_MeetingProblem.ipynb\n",
      "Found Clingo Parenthesis in File:  D:\\Users\\Q\\PycharmProjects\\PythonClingo_Interface\\examples\\2_MeetingProblem.ipynb\n",
      "[<pythonclingointerface.clingo_interface.ClingoProblem object at 0x000001F36A581388>]\n",
      "Unknown\n",
      "[['on(thu)'], ['on(tue)']]\n"
     ]
    }
   ],
   "source": [
    "%load_ext autoreload\n",
    "%autoreload 2\n",
    "\n",
    "from pythonclingointerface import clingo_interface as ci\n",
    "\n",
    "\n",
    "interface = ci.ClingoInterface()\n",
    "interface.checkParenthesis()\n",
    "interface.printSolutions()\n",
    "\n",
    "\n",
    "\n"
   ],
   "metadata": {
    "collapsed": false,
    "pycharm": {
     "name": "#%%\n"
    }
   }
  }
 ],
 "metadata": {
  "kernelspec": {
   "name": "pythonclingo_interface",
   "language": "python",
   "display_name": "PythonClingo_Interface"
  },
  "language_info": {
   "codemirror_mode": {
    "name": "ipython",
    "version": 2
   },
   "file_extension": ".py",
   "mimetype": "text/x-python",
   "name": "python",
   "nbconvert_exporter": "python",
   "pygments_lexer": "ipython2",
   "version": "2.7.6"
  }
 },
 "nbformat": 4,
 "nbformat_minor": 0
}