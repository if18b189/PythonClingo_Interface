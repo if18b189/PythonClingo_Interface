{
 "cells": [
  {
   "cell_type": "markdown",
   "source": [
    "<h1 align=\"center\">Introduction</h1>\n",
    "\n",
    "<h3> Description </h3>\n",
    "\n",
    "In this example we are going to dissect [Programming with CLINGO (Introduction)](https://www.cs.utexas.edu/~vl/teaching/378/pwc.pdf).\n",
    "We will create a similar example, go over all the details and explain some basic components needed to solve problems with Clingo.\n",
    "\n",
    "<h4> Topics </h4>\n",
    "\n",
    "1. [Predicates](#1-predicates)\n",
    "2. [Atoms](#2-atoms)\n",
    "3. [Rules](#3-rules)\n",
    "\n",
    "<h3 id=\"1-jupyter-notebook-basics\"> 1. Jupyter Notebook Basics </h3>\n",
    "\n",
    "After the download and installation process(pulling the repository and installing the requirements.txt) you can\n",
    "create a new Jupyter Notebook(.ipynb) file.\n",
    "Jupyter Notebooks consist of a markdown and a code cells. If you want to run code you just write it in a code cell\n",
    "if you want to document and explain your code you can do this in a markdown cell.\n",
    "To create a code cell you just type '#%%'\n",
    "\n",
    "\n",
    "<h3 id=\"2-run-clingo\"> 2. Running Clingo in Jupyter </h3>\n",
    "\n",
    "The PythonClingo-Interface allows a nearly seamless integration of Clingo into Jupyter Notebooks.\n",
    "\n",
    "\n",
    "<h3 id=\"1-predicates\"> 3. Predicates </h3>\n",
    "\n",
    "\n",
    "<h3 id=\"2-atoms\"> 4. Atoms </h3>\n",
    "\n",
    "In the following code snippet we are going to create the necessary atoms.\n",
    "In this example jane, john, mon, tue, ... are objects.\n",
    "\n",
    "The words preceding the objects are called predicates.\n",
    "Predicates symbolize properties and relations between 2 objects or variables.\n",
    "\n",
    "\n",
    "\n",
    "describe predicate\n",
    "\n",
    "describe predicate + list of terms = atom\n",
    "\n",
    "<blockquote>\n",
    "<CLINGO\n",
    "\n",
    "    person(jane).  person(john).\n",
    "    day(mon). day(tue). day(wed). day(thu). day(fri).\n",
    "\n",
    "CLINGO>\n",
    "</blockquote>\n",
    "\n",
    "\n",
    "<blockquote>\n",
    "<CLINGO\n",
    "\n",
    "    available(jane) :- not on(fri).\n",
    "    available(john) :- not on(mon), not on(wed).\n",
    "    meet :- available(X) : person(X).\n",
    "\n",
    "CLINGO>\n",
    "</blockquote>\n",
    "\n",
    "<h3 id=\"3-rules\"> 5. Rules </h3>\n",
    "\n",
    "<blockquote>\n",
    "<CLINGO\n",
    "\n",
    "    on(X) : day(X) :- meet.\n",
    "    #show on/1.  % only shows atoms of this predicate\n",
    "\n",
    "CLINGO>\n",
    "</blockquote>\n"
   ],
   "metadata": {
    "collapsed": false,
    "pycharm": {
     "name": "#%% md\n"
    }
   }
  },
  {
   "cell_type": "code",
   "execution_count": 7,
   "outputs": [
    {
     "name": "stdout",
     "output_type": "stream",
     "text": [
      "The autoreload extension is already loaded. To reload it, use:\n",
      "  %reload_ext autoreload\n",
      "ClingoInterface: scanning 1_CitiesAndTemperatures.ipynb\n",
      "['D:\\\\Users\\\\Q\\\\PycharmProjects\\\\PythonClingo_Interface\\\\examples\\\\1_CitiesAndTemperatures.ipynb']\n",
      "Reading File:  D:\\Users\\Q\\PycharmProjects\\PythonClingo_Interface\\examples\\1_CitiesAndTemperatures.ipynb\n"
     ]
    },
    {
     "ename": "FileNotFoundError",
     "evalue": "[Errno 2] No such file or directory: 'D:\\\\Users\\\\Q\\\\PycharmProjects\\\\PythonClingo_Interface\\\\examples\\\\1_CitiesAndTemperatures.ipynb'",
     "output_type": "error",
     "traceback": [
      "\u001B[1;31m---------------------------------------------------------------------------\u001B[0m",
      "\u001B[1;31mFileNotFoundError\u001B[0m                         Traceback (most recent call last)",
      "\u001B[1;32m<ipython-input-7-7df0be5a4f03>\u001B[0m in \u001B[0;36m<module>\u001B[1;34m\u001B[0m\n\u001B[0;32m      6\u001B[0m \u001B[1;33m\u001B[0m\u001B[0m\n\u001B[0;32m      7\u001B[0m \u001B[0minterface\u001B[0m \u001B[1;33m=\u001B[0m \u001B[0mci\u001B[0m\u001B[1;33m.\u001B[0m\u001B[0mClingoInterface\u001B[0m\u001B[1;33m(\u001B[0m\u001B[1;33m)\u001B[0m\u001B[1;33m\u001B[0m\u001B[1;33m\u001B[0m\u001B[0m\n\u001B[1;32m----> 8\u001B[1;33m \u001B[0minterface\u001B[0m\u001B[1;33m.\u001B[0m\u001B[0mcheckParenthesis\u001B[0m\u001B[1;33m(\u001B[0m\u001B[1;33m)\u001B[0m\u001B[1;33m\u001B[0m\u001B[1;33m\u001B[0m\u001B[0m\n\u001B[0m\u001B[0;32m      9\u001B[0m \u001B[0minterface\u001B[0m\u001B[1;33m.\u001B[0m\u001B[0mprintSolutions\u001B[0m\u001B[1;33m(\u001B[0m\u001B[1;33m)\u001B[0m\u001B[1;33m\u001B[0m\u001B[1;33m\u001B[0m\u001B[0m\n\u001B[0;32m     10\u001B[0m \u001B[1;33m\u001B[0m\u001B[0m\n",
      "\u001B[1;32mD:\\Users\\Q\\PycharmProjects\\PythonClingo_Interface\\src\\pythonclingointerface\\clingo_interface.py\u001B[0m in \u001B[0;36mcheckParenthesis\u001B[1;34m(self, directoryName, py, txt, ipynb)\u001B[0m\n\u001B[0;32m    170\u001B[0m         \u001B[1;32mfor\u001B[0m \u001B[0mfile\u001B[0m \u001B[1;32min\u001B[0m \u001B[0mfiles\u001B[0m\u001B[1;33m:\u001B[0m\u001B[1;33m\u001B[0m\u001B[1;33m\u001B[0m\u001B[0m\n\u001B[0;32m    171\u001B[0m             \u001B[0mprint\u001B[0m\u001B[1;33m(\u001B[0m\u001B[1;34m\"Reading File: \"\u001B[0m\u001B[1;33m,\u001B[0m \u001B[0mfile\u001B[0m\u001B[1;33m)\u001B[0m\u001B[1;33m\u001B[0m\u001B[1;33m\u001B[0m\u001B[0m\n\u001B[1;32m--> 172\u001B[1;33m             \u001B[0mfs\u001B[0m \u001B[1;33m=\u001B[0m \u001B[0mopen\u001B[0m\u001B[1;33m(\u001B[0m\u001B[0mfile\u001B[0m\u001B[1;33m,\u001B[0m \u001B[1;34m'r'\u001B[0m\u001B[1;33m)\u001B[0m\u001B[1;33m\u001B[0m\u001B[1;33m\u001B[0m\u001B[0m\n\u001B[0m\u001B[0;32m    173\u001B[0m             \u001B[1;32mif\u001B[0m \u001B[0mparenthesis_start\u001B[0m \u001B[1;32min\u001B[0m \u001B[0mfs\u001B[0m\u001B[1;33m.\u001B[0m\u001B[0mread\u001B[0m\u001B[1;33m(\u001B[0m\u001B[1;33m)\u001B[0m\u001B[1;33m:\u001B[0m\u001B[1;33m\u001B[0m\u001B[1;33m\u001B[0m\u001B[0m\n\u001B[0;32m    174\u001B[0m                 \u001B[0mprint\u001B[0m\u001B[1;33m(\u001B[0m\u001B[1;34m\"Found Clingo Parenthesis in File: \"\u001B[0m\u001B[1;33m,\u001B[0m \u001B[0mfile\u001B[0m\u001B[1;33m)\u001B[0m\u001B[1;33m\u001B[0m\u001B[1;33m\u001B[0m\u001B[0m\n",
      "\u001B[1;31mFileNotFoundError\u001B[0m: [Errno 2] No such file or directory: 'D:\\\\Users\\\\Q\\\\PycharmProjects\\\\PythonClingo_Interface\\\\examples\\\\1_CitiesAndTemperatures.ipynb'"
     ]
    }
   ],
   "source": [
    "%load_ext autoreload\n",
    "%autoreload 2\n",
    "\n",
    "from pythonclingointerface import clingo_interface as ci\n",
    "\n",
    "\n",
    "interface = ci.ClingoInterface()\n",
    "interface.checkParenthesis()\n",
    "interface.printSolutions()\n",
    "\n",
    "\n"
   ],
   "metadata": {
    "collapsed": false,
    "pycharm": {
     "name": "#%%\n"
    }
   }
  }
 ],
 "metadata": {
  "kernelspec": {
   "name": "pythonclingo_interface",
   "language": "python",
   "display_name": "PythonClingo_Interface"
  },
  "language_info": {
   "codemirror_mode": {
    "name": "ipython",
    "version": 2
   },
   "file_extension": ".py",
   "mimetype": "text/x-python",
   "name": "python",
   "nbconvert_exporter": "python",
   "pygments_lexer": "ipython2",
   "version": "2.7.6"
  }
 },
 "nbformat": 4,
 "nbformat_minor": 0
}