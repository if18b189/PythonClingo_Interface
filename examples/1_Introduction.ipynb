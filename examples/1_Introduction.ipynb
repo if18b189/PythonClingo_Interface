{
 "cells": [
  {
   "cell_type": "markdown",
   "source": [
    "<h1 align=\"center\">Introduction</h1>\n",
    "\n",
    "<h3> Description </h3>\n",
    "\n",
    "In this example we are going to dissect [Programming with CLINGO (Introduction)](https://www.cs.utexas.edu/~vl/teaching/378/pwc.pdf).\n",
    "We will create a similar example, go over all the details and explain some basic components needed to solve problems with Clingo.\n",
    "\n",
    "<h4> Topics </h4>\n",
    "\n",
    "1. [Predicates](#1-predicates)\n",
    "2. [Atoms](#2-atoms)\n",
    "3. [Rules](#3-rules)\n",
    "\n",
    "<h3 id=\"1-jupyter-notebook-basics\"> 1. Jupyter Notebook Basics </h3>\n",
    "\n",
    "After the download and installation process(pulling the repository and installing the requirements.txt) you can\n",
    "create a new Jupyter Notebook(.ipynb) file.\n",
    "Jupyter Notebooks consist of a markdown and a code cells. If you want to run code you just write it in a code cell\n",
    "if you want to document and explain your code you can do this in a markdown cell.\n",
    "To create a code cell you just type '#%%'\n",
    "\n",
    "\n",
    "<h3 id=\"2-run-clingo\"> 2. Running Clingo in Jupyter </h3>\n",
    "\n",
    "The PythonClingo-Interface allows a nearly seamless integration of Clingo into Jupyter Notebooks.\n",
    "\n",
    "\n",
    "<h3 id=\"1-predicates\"> 3. Predicates </h3>\n",
    "\n",
    "\n",
    "<h3 id=\"2-atoms\"> 4. Atoms </h3>\n",
    "\n",
    "In the following code snippet we are going to create the necessary atoms.\n",
    "In this example jane, john, mon, tue, ... are objects.\n",
    "\n",
    "The words preceding the objects are called predicates.\n",
    "Predicates symbolize properties and relations between 2 objects or variables.\n",
    "\n",
    "\n",
    "\n",
    "describe predicate\n",
    "\n",
    "describe predicate + list of terms = atom\n",
    "\n",
    "<blockquote>\n",
    "\n",
    "<CLINGO\n",
    "\n",
    "    person(jane).  person(john).\n",
    "    day(mon). day(tue). day(wed). day(thu). day(fri).\n",
    "\n",
    "CLINGO>\n",
    "\n",
    "</blockquote>\n",
    "\n",
    "\n",
    "<blockquote>\n",
    "\n",
    "<CLINGO\n",
    "\n",
    "    available(jane) :- not on(fri).\n",
    "    available(john) :- not on(mon), not on(wed).\n",
    "    meet :- available(X) : person(X).\n",
    "\n",
    "CLINGO>\n",
    "\n",
    "</blockquote>\n",
    "\n",
    "<h3 id=\"3-rules\"> 5. Rules </h3>\n",
    "\n",
    "<blockquote>\n",
    "\n",
    "<CLINGO\n",
    "\n",
    "    on(X) : day(X) :- meet.\n",
    "    #show on/1.  % only shows atoms of this predicate\n",
    "\n",
    "CLINGO>\n",
    "\n",
    "</blockquote>\n"
   ],
   "metadata": {
    "collapsed": false,
    "pycharm": {
     "name": "#%% md\n"
    }
   }
  },
  {
   "cell_type": "code",
   "execution_count": 1,
   "outputs": [
    {
     "name": "stdout",
     "output_type": "stream",
     "text": [
      "TestID: \n",
      "234\n",
      "ClingoInterface: scanning 1_Introduction.ipynb\n",
      "['D:\\\\Users\\\\Q\\\\PycharmProjects\\\\PythonClingo_Interface\\\\examples\\\\1_Introduction.ipynb']\n",
      "Reading File:  D:\\Users\\Q\\PycharmProjects\\PythonClingo_Interface\\examples\\1_Introduction.ipynb\n",
      "Found Clingo Parenthesis in File:  D:\\Users\\Q\\PycharmProjects\\PythonClingo_Interface\\examples\\1_Introduction.ipynb\n",
      "[<pythonclingointerface.clingo_interface.ClingoProblem object at 0x000001CE93AC1908>]\n",
      "Unknown\n",
      "[['on(thu)'], ['on(tue)']]\n"
     ]
    }
   ],
   "source": [
    "%load_ext autoreload\n",
    "%autoreload 2\n",
    "\n",
    "from pythonclingointerface import clingo_interface as ci\n",
    "\n",
    "\n",
    "interface = ci.ClingoInterface()\n",
    "interface.checkParenthesis()\n",
    "interface.printSolutions()\n",
    "\n",
    "\n"
   ],
   "metadata": {
    "collapsed": false,
    "pycharm": {
     "name": "#%%\n"
    }
   }
  }
 ],
 "metadata": {
  "kernelspec": {
   "name": "pythonclingo_interface",
   "language": "python",
   "display_name": "PythonClingo_Interface"
  },
  "language_info": {
   "codemirror_mode": {
    "name": "ipython",
    "version": 2
   },
   "file_extension": ".py",
   "mimetype": "text/x-python",
   "name": "python",
   "nbconvert_exporter": "python",
   "pygments_lexer": "ipython2",
   "version": "2.7.6"
  }
 },
 "nbformat": 4,
 "nbformat_minor": 0
}