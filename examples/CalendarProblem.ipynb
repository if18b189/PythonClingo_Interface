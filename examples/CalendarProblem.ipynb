{
 "cells": [
  {
   "cell_type": "markdown",
   "source": [
    "<h1 align=\"center\">Calendar Problem</h1>\n",
    "\n",
    "<h3> Description </h3>\n",
    "\n",
    "\n",
    "\n",
    "\n",
    "<h3> Clingo </h3>\n",
    "\n",
    "<CLINGO\n",
    "\n",
    "\n",
    "\n",
    "CLINGO>"
   ],
   "metadata": {
    "collapsed": false,
    "pycharm": {
     "name": "#%% md\n"
    }
   }
  },
  {
   "cell_type": "code",
   "execution_count": 1,
   "metadata": {
    "collapsed": true,
    "pycharm": {
     "name": "#%%\n"
    }
   },
   "outputs": [
    {
     "name": "stdout",
     "output_type": "stream",
     "text": [
      "ClingoInterface: scanning CalendarProblem.ipynb\n",
      "['D:\\\\Users\\\\Q\\\\PycharmProjects\\\\PythonClingo_Interface\\\\examples\\\\CalendarProblem.ipynb']\n",
      "Reading File:  D:\\Users\\Q\\PycharmProjects\\PythonClingo_Interface\\examples\\CalendarProblem.ipynb\n",
      "Found Clingo Parenthesis in File:  D:\\Users\\Q\\PycharmProjects\\PythonClingo_Interface\\examples\\CalendarProblem.ipynb\n",
      "\n",
      "\n",
      "\n",
      "\n",
      "[<pythonclingointerface.clingo_interface.ClingoProblem object at 0x000002466B6EE848>]\n",
      "Problem Name\n",
      "[['']]\n"
     ]
    }
   ],
   "source": [
    "%load_ext autoreload\n",
    "%autoreload 2\n",
    "\n",
    "from pythonclingointerface import clingo_interface as ci\n",
    "\n",
    "\n",
    "interface = ci.ClingoInterface()\n",
    "interface.checkParenthesis()\n",
    "interface.printSolutions()\n",
    "\n",
    "\n",
    "\n"
   ]
  }
 ],
 "metadata": {
  "kernelspec": {
   "name": "pythonclingo_interface",
   "language": "python",
   "display_name": "PythonClingo_Interface"
  },
  "language_info": {
   "codemirror_mode": {
    "name": "ipython",
    "version": 2
   },
   "file_extension": ".py",
   "mimetype": "text/x-python",
   "name": "python",
   "nbconvert_exporter": "python",
   "pygments_lexer": "ipython2",
   "version": "2.7.6"
  }
 },
 "nbformat": 4,
 "nbformat_minor": 0
}