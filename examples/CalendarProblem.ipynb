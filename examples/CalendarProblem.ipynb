{
 "cells": [
  {
   "cell_type": "markdown",
   "source": [
    "<h1 align=\"center\">Calendar Problem</h1>\n",
    "\n",
    "<h3> Description </h3>\n",
    "\n",
    "In this example we are going to customize __2_MeetingProblem__ ( or  [example (3.7)](https://www.cs.utexas.edu/users/vl/teaching/lbai/clingo_guide.pdf#subsubsection.3.1.8)).\n",
    "Instead of finding the right date for a meeting, we are going to find a time schedule for university classes.\n",
    "In order to do this, we will need to provide the regular starting times of lessons and when each member\n",
    "of the university staff (professors) will be able to teach. Our results will be several timetables.\n",
    "\n",
    "\n",
    "\n",
    "<h4> Lesson times </h4>\n",
    "\n",
    "Lessons | Start | End\n",
    "--- | --- | ---\n",
    "1 | 08:00 | 08:45\n",
    "2 | 08:45 | 09:30\n",
    "3 | 09:40 | 10:25\n",
    "4 | 10:25 | 11:10\n",
    "5 | 11:20 | 12:05\n",
    "6 | 12:05 | 12:50\n",
    "7 | 12:50 | 13:35\n",
    "8 | 13:35 | 14:20\n",
    "9 | 14:30 | 15:15\n",
    "10 | 15:15 | 16:00\n",
    "11 | 16:10 | 16:55\n",
    "12 | 16:55 | 17:40\n",
    "13 | 17:50 | 18:35\n",
    "14 | 18:35 | 19:20\n",
    "15 | 19:30 | 20:15\n",
    "16 | 20:15 | 21:00\n",
    "\n",
    "\n",
    "\n",
    "<h3> Clingo </h3>\n",
    "\n",
    "<h4> Atoms / Variables </h4>\n",
    "\n",
    "<blockquote>\n",
    "\n",
    "\n",
    "<CLINGO\n",
    "\n",
    "    % DONT write subjects in caps \"SWE\", \"MAT\"\n",
    "\n",
    "    available(swe,800). available(swe,940).\n",
    "    available(mat,800). available(mat,1120).\n",
    "    available(inn,1750). available(inn,1120).\n",
    "    available(bes,1750). available(bes,1120).\n",
    "\n",
    "CLINGO>\n",
    "\n",
    "</blockquote>\n",
    "\n",
    "\n",
    "<h4> Rules </h4>\n",
    "\n",
    "<blockquote>\n",
    "\n",
    "<CLINGO\n",
    "\n",
    "    { termin(X1,Y1) } :- available(X1,Y1).\n",
    "\n",
    "    :- termin(X1,Y1), termin(X1,Y2), Y1!=Y2.\n",
    "    :- termin(X1,Y1), termin(X2,Y1), X1!=X2.\n",
    "\n",
    "    :- not #count{X : termin(X,Y)} > 2.     % DONT forget adjusting this value to the number of subjects\n",
    "\n",
    "CLINGO>\n",
    "\n",
    "</blockquote>\n",
    "\n",
    "\n",
    "<h4> Generating </h4>\n",
    "\n",
    "<blockquote>\n",
    "\n",
    "<CLINGO\n",
    "\n",
    "    #show termin/2.\n",
    "\n",
    "CLINGO>\n",
    "\n",
    "</blockquote>\n"
   ],
   "metadata": {
    "collapsed": false
   }
  },
  {
   "cell_type": "code",
   "execution_count": 1,
   "outputs": [
    {
     "name": "stdout",
     "output_type": "stream",
     "text": [
      "TestID: \n",
      "174\n",
      "ClingoInterface: scanning CalendarProblem.ipynb\n",
      "['D:\\\\Users\\\\Q\\\\PycharmProjects\\\\PythonClingo_Interface\\\\examples\\\\CalendarProblem.ipynb']\n",
      "Reading File:  D:\\Users\\Q\\PycharmProjects\\PythonClingo_Interface\\examples\\CalendarProblem.ipynb\n",
      "Found Clingo Parenthesis in File:  D:\\Users\\Q\\PycharmProjects\\PythonClingo_Interface\\examples\\CalendarProblem.ipynb\n"
     ]
    },
    {
     "data": {
      "text/plain": "  Subjects     Times\n0      mat  08:00:00\n1      inn  11:20:00\n2      bes  17:50:00",
      "text/html": "<div>\n<style scoped>\n    .dataframe tbody tr th:only-of-type {\n        vertical-align: middle;\n    }\n\n    .dataframe tbody tr th {\n        vertical-align: top;\n    }\n\n    .dataframe thead th {\n        text-align: right;\n    }\n</style>\n<table border=\"1\" class=\"dataframe\">\n  <thead>\n    <tr style=\"text-align: right;\">\n      <th></th>\n      <th>Subjects</th>\n      <th>Times</th>\n    </tr>\n  </thead>\n  <tbody>\n    <tr>\n      <th>0</th>\n      <td>mat</td>\n      <td>08:00:00</td>\n    </tr>\n    <tr>\n      <th>1</th>\n      <td>inn</td>\n      <td>11:20:00</td>\n    </tr>\n    <tr>\n      <th>2</th>\n      <td>bes</td>\n      <td>17:50:00</td>\n    </tr>\n  </tbody>\n</table>\n</div>"
     },
     "metadata": {},
     "output_type": "display_data"
    },
    {
     "data": {
      "text/plain": "  Subjects     Times\n0      mat  08:00:00\n2      bes  11:20:00\n1      inn  17:50:00",
      "text/html": "<div>\n<style scoped>\n    .dataframe tbody tr th:only-of-type {\n        vertical-align: middle;\n    }\n\n    .dataframe tbody tr th {\n        vertical-align: top;\n    }\n\n    .dataframe thead th {\n        text-align: right;\n    }\n</style>\n<table border=\"1\" class=\"dataframe\">\n  <thead>\n    <tr style=\"text-align: right;\">\n      <th></th>\n      <th>Subjects</th>\n      <th>Times</th>\n    </tr>\n  </thead>\n  <tbody>\n    <tr>\n      <th>0</th>\n      <td>mat</td>\n      <td>08:00:00</td>\n    </tr>\n    <tr>\n      <th>2</th>\n      <td>bes</td>\n      <td>11:20:00</td>\n    </tr>\n    <tr>\n      <th>1</th>\n      <td>inn</td>\n      <td>17:50:00</td>\n    </tr>\n  </tbody>\n</table>\n</div>"
     },
     "metadata": {},
     "output_type": "display_data"
    },
    {
     "data": {
      "text/plain": "  Subjects     Times\n1      mat  08:00:00\n0      swe  09:40:00\n2      inn  17:50:00",
      "text/html": "<div>\n<style scoped>\n    .dataframe tbody tr th:only-of-type {\n        vertical-align: middle;\n    }\n\n    .dataframe tbody tr th {\n        vertical-align: top;\n    }\n\n    .dataframe thead th {\n        text-align: right;\n    }\n</style>\n<table border=\"1\" class=\"dataframe\">\n  <thead>\n    <tr style=\"text-align: right;\">\n      <th></th>\n      <th>Subjects</th>\n      <th>Times</th>\n    </tr>\n  </thead>\n  <tbody>\n    <tr>\n      <th>1</th>\n      <td>mat</td>\n      <td>08:00:00</td>\n    </tr>\n    <tr>\n      <th>0</th>\n      <td>swe</td>\n      <td>09:40:00</td>\n    </tr>\n    <tr>\n      <th>2</th>\n      <td>inn</td>\n      <td>17:50:00</td>\n    </tr>\n  </tbody>\n</table>\n</div>"
     },
     "metadata": {},
     "output_type": "display_data"
    },
    {
     "data": {
      "text/plain": "  Subjects     Times\n1      mat  08:00:00\n0      swe  09:40:00\n2      inn  11:20:00",
      "text/html": "<div>\n<style scoped>\n    .dataframe tbody tr th:only-of-type {\n        vertical-align: middle;\n    }\n\n    .dataframe tbody tr th {\n        vertical-align: top;\n    }\n\n    .dataframe thead th {\n        text-align: right;\n    }\n</style>\n<table border=\"1\" class=\"dataframe\">\n  <thead>\n    <tr style=\"text-align: right;\">\n      <th></th>\n      <th>Subjects</th>\n      <th>Times</th>\n    </tr>\n  </thead>\n  <tbody>\n    <tr>\n      <th>1</th>\n      <td>mat</td>\n      <td>08:00:00</td>\n    </tr>\n    <tr>\n      <th>0</th>\n      <td>swe</td>\n      <td>09:40:00</td>\n    </tr>\n    <tr>\n      <th>2</th>\n      <td>inn</td>\n      <td>11:20:00</td>\n    </tr>\n  </tbody>\n</table>\n</div>"
     },
     "metadata": {},
     "output_type": "display_data"
    },
    {
     "data": {
      "text/plain": "  Subjects     Times\n0      swe  09:40:00\n1      mat  11:20:00\n2      inn  17:50:00",
      "text/html": "<div>\n<style scoped>\n    .dataframe tbody tr th:only-of-type {\n        vertical-align: middle;\n    }\n\n    .dataframe tbody tr th {\n        vertical-align: top;\n    }\n\n    .dataframe thead th {\n        text-align: right;\n    }\n</style>\n<table border=\"1\" class=\"dataframe\">\n  <thead>\n    <tr style=\"text-align: right;\">\n      <th></th>\n      <th>Subjects</th>\n      <th>Times</th>\n    </tr>\n  </thead>\n  <tbody>\n    <tr>\n      <th>0</th>\n      <td>swe</td>\n      <td>09:40:00</td>\n    </tr>\n    <tr>\n      <th>1</th>\n      <td>mat</td>\n      <td>11:20:00</td>\n    </tr>\n    <tr>\n      <th>2</th>\n      <td>inn</td>\n      <td>17:50:00</td>\n    </tr>\n  </tbody>\n</table>\n</div>"
     },
     "metadata": {},
     "output_type": "display_data"
    },
    {
     "data": {
      "text/plain": "  Subjects     Times\n0      swe  08:00:00\n1      mat  11:20:00\n2      inn  17:50:00",
      "text/html": "<div>\n<style scoped>\n    .dataframe tbody tr th:only-of-type {\n        vertical-align: middle;\n    }\n\n    .dataframe tbody tr th {\n        vertical-align: top;\n    }\n\n    .dataframe thead th {\n        text-align: right;\n    }\n</style>\n<table border=\"1\" class=\"dataframe\">\n  <thead>\n    <tr style=\"text-align: right;\">\n      <th></th>\n      <th>Subjects</th>\n      <th>Times</th>\n    </tr>\n  </thead>\n  <tbody>\n    <tr>\n      <th>0</th>\n      <td>swe</td>\n      <td>08:00:00</td>\n    </tr>\n    <tr>\n      <th>1</th>\n      <td>mat</td>\n      <td>11:20:00</td>\n    </tr>\n    <tr>\n      <th>2</th>\n      <td>inn</td>\n      <td>17:50:00</td>\n    </tr>\n  </tbody>\n</table>\n</div>"
     },
     "metadata": {},
     "output_type": "display_data"
    },
    {
     "data": {
      "text/plain": "  Subjects     Times\n1      mat  08:00:00\n0      swe  09:40:00\n2      bes  17:50:00",
      "text/html": "<div>\n<style scoped>\n    .dataframe tbody tr th:only-of-type {\n        vertical-align: middle;\n    }\n\n    .dataframe tbody tr th {\n        vertical-align: top;\n    }\n\n    .dataframe thead th {\n        text-align: right;\n    }\n</style>\n<table border=\"1\" class=\"dataframe\">\n  <thead>\n    <tr style=\"text-align: right;\">\n      <th></th>\n      <th>Subjects</th>\n      <th>Times</th>\n    </tr>\n  </thead>\n  <tbody>\n    <tr>\n      <th>1</th>\n      <td>mat</td>\n      <td>08:00:00</td>\n    </tr>\n    <tr>\n      <th>0</th>\n      <td>swe</td>\n      <td>09:40:00</td>\n    </tr>\n    <tr>\n      <th>2</th>\n      <td>bes</td>\n      <td>17:50:00</td>\n    </tr>\n  </tbody>\n</table>\n</div>"
     },
     "metadata": {},
     "output_type": "display_data"
    },
    {
     "data": {
      "text/plain": "  Subjects     Times\n0      swe  09:40:00\n1      mat  11:20:00\n2      bes  17:50:00",
      "text/html": "<div>\n<style scoped>\n    .dataframe tbody tr th:only-of-type {\n        vertical-align: middle;\n    }\n\n    .dataframe tbody tr th {\n        vertical-align: top;\n    }\n\n    .dataframe thead th {\n        text-align: right;\n    }\n</style>\n<table border=\"1\" class=\"dataframe\">\n  <thead>\n    <tr style=\"text-align: right;\">\n      <th></th>\n      <th>Subjects</th>\n      <th>Times</th>\n    </tr>\n  </thead>\n  <tbody>\n    <tr>\n      <th>0</th>\n      <td>swe</td>\n      <td>09:40:00</td>\n    </tr>\n    <tr>\n      <th>1</th>\n      <td>mat</td>\n      <td>11:20:00</td>\n    </tr>\n    <tr>\n      <th>2</th>\n      <td>bes</td>\n      <td>17:50:00</td>\n    </tr>\n  </tbody>\n</table>\n</div>"
     },
     "metadata": {},
     "output_type": "display_data"
    },
    {
     "data": {
      "text/plain": "  Subjects     Times\n0      swe  08:00:00\n1      mat  11:20:00\n2      bes  17:50:00",
      "text/html": "<div>\n<style scoped>\n    .dataframe tbody tr th:only-of-type {\n        vertical-align: middle;\n    }\n\n    .dataframe tbody tr th {\n        vertical-align: top;\n    }\n\n    .dataframe thead th {\n        text-align: right;\n    }\n</style>\n<table border=\"1\" class=\"dataframe\">\n  <thead>\n    <tr style=\"text-align: right;\">\n      <th></th>\n      <th>Subjects</th>\n      <th>Times</th>\n    </tr>\n  </thead>\n  <tbody>\n    <tr>\n      <th>0</th>\n      <td>swe</td>\n      <td>08:00:00</td>\n    </tr>\n    <tr>\n      <th>1</th>\n      <td>mat</td>\n      <td>11:20:00</td>\n    </tr>\n    <tr>\n      <th>2</th>\n      <td>bes</td>\n      <td>17:50:00</td>\n    </tr>\n  </tbody>\n</table>\n</div>"
     },
     "metadata": {},
     "output_type": "display_data"
    },
    {
     "data": {
      "text/plain": "  Subjects     Times\n1      mat  08:00:00\n0      swe  09:40:00\n2      bes  11:20:00",
      "text/html": "<div>\n<style scoped>\n    .dataframe tbody tr th:only-of-type {\n        vertical-align: middle;\n    }\n\n    .dataframe tbody tr th {\n        vertical-align: top;\n    }\n\n    .dataframe thead th {\n        text-align: right;\n    }\n</style>\n<table border=\"1\" class=\"dataframe\">\n  <thead>\n    <tr style=\"text-align: right;\">\n      <th></th>\n      <th>Subjects</th>\n      <th>Times</th>\n    </tr>\n  </thead>\n  <tbody>\n    <tr>\n      <th>1</th>\n      <td>mat</td>\n      <td>08:00:00</td>\n    </tr>\n    <tr>\n      <th>0</th>\n      <td>swe</td>\n      <td>09:40:00</td>\n    </tr>\n    <tr>\n      <th>2</th>\n      <td>bes</td>\n      <td>11:20:00</td>\n    </tr>\n  </tbody>\n</table>\n</div>"
     },
     "metadata": {},
     "output_type": "display_data"
    },
    {
     "data": {
      "text/plain": "  Subjects     Times\n0      swe  09:40:00\n2      bes  11:20:00\n1      inn  17:50:00",
      "text/html": "<div>\n<style scoped>\n    .dataframe tbody tr th:only-of-type {\n        vertical-align: middle;\n    }\n\n    .dataframe tbody tr th {\n        vertical-align: top;\n    }\n\n    .dataframe thead th {\n        text-align: right;\n    }\n</style>\n<table border=\"1\" class=\"dataframe\">\n  <thead>\n    <tr style=\"text-align: right;\">\n      <th></th>\n      <th>Subjects</th>\n      <th>Times</th>\n    </tr>\n  </thead>\n  <tbody>\n    <tr>\n      <th>0</th>\n      <td>swe</td>\n      <td>09:40:00</td>\n    </tr>\n    <tr>\n      <th>2</th>\n      <td>bes</td>\n      <td>11:20:00</td>\n    </tr>\n    <tr>\n      <th>1</th>\n      <td>inn</td>\n      <td>17:50:00</td>\n    </tr>\n  </tbody>\n</table>\n</div>"
     },
     "metadata": {},
     "output_type": "display_data"
    },
    {
     "data": {
      "text/plain": "  Subjects     Times\n0      swe  08:00:00\n2      bes  11:20:00\n1      inn  17:50:00",
      "text/html": "<div>\n<style scoped>\n    .dataframe tbody tr th:only-of-type {\n        vertical-align: middle;\n    }\n\n    .dataframe tbody tr th {\n        vertical-align: top;\n    }\n\n    .dataframe thead th {\n        text-align: right;\n    }\n</style>\n<table border=\"1\" class=\"dataframe\">\n  <thead>\n    <tr style=\"text-align: right;\">\n      <th></th>\n      <th>Subjects</th>\n      <th>Times</th>\n    </tr>\n  </thead>\n  <tbody>\n    <tr>\n      <th>0</th>\n      <td>swe</td>\n      <td>08:00:00</td>\n    </tr>\n    <tr>\n      <th>2</th>\n      <td>bes</td>\n      <td>11:20:00</td>\n    </tr>\n    <tr>\n      <th>1</th>\n      <td>inn</td>\n      <td>17:50:00</td>\n    </tr>\n  </tbody>\n</table>\n</div>"
     },
     "metadata": {},
     "output_type": "display_data"
    },
    {
     "data": {
      "text/plain": "  Subjects     Times\n0      swe  09:40:00\n1      inn  11:20:00\n2      bes  17:50:00",
      "text/html": "<div>\n<style scoped>\n    .dataframe tbody tr th:only-of-type {\n        vertical-align: middle;\n    }\n\n    .dataframe tbody tr th {\n        vertical-align: top;\n    }\n\n    .dataframe thead th {\n        text-align: right;\n    }\n</style>\n<table border=\"1\" class=\"dataframe\">\n  <thead>\n    <tr style=\"text-align: right;\">\n      <th></th>\n      <th>Subjects</th>\n      <th>Times</th>\n    </tr>\n  </thead>\n  <tbody>\n    <tr>\n      <th>0</th>\n      <td>swe</td>\n      <td>09:40:00</td>\n    </tr>\n    <tr>\n      <th>1</th>\n      <td>inn</td>\n      <td>11:20:00</td>\n    </tr>\n    <tr>\n      <th>2</th>\n      <td>bes</td>\n      <td>17:50:00</td>\n    </tr>\n  </tbody>\n</table>\n</div>"
     },
     "metadata": {},
     "output_type": "display_data"
    },
    {
     "data": {
      "text/plain": "  Subjects     Times\n0      swe  08:00:00\n1      inn  11:20:00\n2      bes  17:50:00",
      "text/html": "<div>\n<style scoped>\n    .dataframe tbody tr th:only-of-type {\n        vertical-align: middle;\n    }\n\n    .dataframe tbody tr th {\n        vertical-align: top;\n    }\n\n    .dataframe thead th {\n        text-align: right;\n    }\n</style>\n<table border=\"1\" class=\"dataframe\">\n  <thead>\n    <tr style=\"text-align: right;\">\n      <th></th>\n      <th>Subjects</th>\n      <th>Times</th>\n    </tr>\n  </thead>\n  <tbody>\n    <tr>\n      <th>0</th>\n      <td>swe</td>\n      <td>08:00:00</td>\n    </tr>\n    <tr>\n      <th>1</th>\n      <td>inn</td>\n      <td>11:20:00</td>\n    </tr>\n    <tr>\n      <th>2</th>\n      <td>bes</td>\n      <td>17:50:00</td>\n    </tr>\n  </tbody>\n</table>\n</div>"
     },
     "metadata": {},
     "output_type": "display_data"
    },
    {
     "data": {
      "text/plain": "  Subjects     Times\n1      mat  08:00:00\n0      swe  09:40:00\n3      bes  11:20:00\n2      inn  17:50:00",
      "text/html": "<div>\n<style scoped>\n    .dataframe tbody tr th:only-of-type {\n        vertical-align: middle;\n    }\n\n    .dataframe tbody tr th {\n        vertical-align: top;\n    }\n\n    .dataframe thead th {\n        text-align: right;\n    }\n</style>\n<table border=\"1\" class=\"dataframe\">\n  <thead>\n    <tr style=\"text-align: right;\">\n      <th></th>\n      <th>Subjects</th>\n      <th>Times</th>\n    </tr>\n  </thead>\n  <tbody>\n    <tr>\n      <th>1</th>\n      <td>mat</td>\n      <td>08:00:00</td>\n    </tr>\n    <tr>\n      <th>0</th>\n      <td>swe</td>\n      <td>09:40:00</td>\n    </tr>\n    <tr>\n      <th>3</th>\n      <td>bes</td>\n      <td>11:20:00</td>\n    </tr>\n    <tr>\n      <th>2</th>\n      <td>inn</td>\n      <td>17:50:00</td>\n    </tr>\n  </tbody>\n</table>\n</div>"
     },
     "metadata": {},
     "output_type": "display_data"
    },
    {
     "data": {
      "text/plain": "  Subjects     Times\n1      mat  08:00:00\n0      swe  09:40:00\n2      inn  11:20:00\n3      bes  17:50:00",
      "text/html": "<div>\n<style scoped>\n    .dataframe tbody tr th:only-of-type {\n        vertical-align: middle;\n    }\n\n    .dataframe tbody tr th {\n        vertical-align: top;\n    }\n\n    .dataframe thead th {\n        text-align: right;\n    }\n</style>\n<table border=\"1\" class=\"dataframe\">\n  <thead>\n    <tr style=\"text-align: right;\">\n      <th></th>\n      <th>Subjects</th>\n      <th>Times</th>\n    </tr>\n  </thead>\n  <tbody>\n    <tr>\n      <th>1</th>\n      <td>mat</td>\n      <td>08:00:00</td>\n    </tr>\n    <tr>\n      <th>0</th>\n      <td>swe</td>\n      <td>09:40:00</td>\n    </tr>\n    <tr>\n      <th>2</th>\n      <td>inn</td>\n      <td>11:20:00</td>\n    </tr>\n    <tr>\n      <th>3</th>\n      <td>bes</td>\n      <td>17:50:00</td>\n    </tr>\n  </tbody>\n</table>\n</div>"
     },
     "metadata": {},
     "output_type": "display_data"
    }
   ],
   "source": [
    "%load_ext autoreload\n",
    "%autoreload 2\n",
    "\n",
    "from pythonclingointerface import clingo_interface as ci\n",
    "\n",
    "import pandas as pd\n",
    "import numpy as np\n",
    "\n",
    "\n",
    "interface = ci.ClingoInterface()\n",
    "interface.checkParenthesis()\n",
    "# interface.printSolutions()\n",
    "\n",
    "solution = interface.getSolutions()[\"Unknown\"]\n",
    "\n",
    "times = list()\n",
    "subjects = list()\n",
    "numpyarray = np.array(times)\n",
    "\n",
    "for i, timetables in enumerate(solution,1):\n",
    "    for lesson in timetables:\n",
    "        digits =\"\".join(char for char in lesson if char.isdigit())\n",
    "        time = digits[:-2] + ':' + digits[-2:]    # changing format string(1000) -> string(10:00)\n",
    "        times.append(time)\n",
    "        subjects.append(lesson[lesson.find('(')+1 : lesson.find(\",\")])  # getting \"swe\" from termin(swe,900)\n",
    "\n",
    "    numpyarray = np.array(list(zip(subjects, times)))\n",
    "\n",
    "    df = pd.DataFrame(data = numpyarray, columns = [\"Subjects\", \"Times\"])\n",
    "    df['Times'] = pd.to_datetime(df['Times'], format= '%H:%M').dt.time   # \".dt.time\" only shows time/hides date\n",
    "    df = df.sort_values(by='Times')\n",
    "\n",
    "    df.style.set_table_attributes(\"style='display:inline'\").set_caption(\"Timetable \" + str(i))  # adding title to dataframe\n",
    "\n",
    "    display(df)\n",
    "\n",
    "    times.clear()\n",
    "    subjects.clear()"
   ],
   "metadata": {
    "collapsed": false,
    "pycharm": {
     "name": "#%%\n"
    }
   }
  }
 ],
 "metadata": {
  "kernelspec": {
   "name": "pythonclingo_interface",
   "language": "python",
   "display_name": "PythonClingo_Interface"
  },
  "language_info": {
   "codemirror_mode": {
    "name": "ipython",
    "version": 2
   },
   "file_extension": ".py",
   "mimetype": "text/x-python",
   "name": "python",
   "nbconvert_exporter": "python",
   "pygments_lexer": "ipython2",
   "version": "2.7.6"
  }
 },
 "nbformat": 4,
 "nbformat_minor": 0
}