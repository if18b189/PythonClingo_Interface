{
 "cells": [
  {
   "cell_type": "markdown",
   "source": [
    "<h1 align=\"center\">PythonClingo-Interface Manual</h1>\n",
    "\n",
    "<h3> Description </h3>\n",
    "\n",
    "Explaining and providing samples on the basic functionalities of this library.\n",
    "\n",
    "<h4> Table of Contents </h4>\n",
    "\n",
    "1.  [Installation](#1-Installation)\n",
    "2.  [Jupyter Notebook Basics](#2-jupyter-notebook-basics)\n",
    "3.  [How to run Clingo in Jupyter Notebook](#3-run-clingo)\n",
    "\n",
    "<h3 id=\"1-jupyter-notebook-basics\"> 1. Installation </h3>\n",
    "\n",
    "In order to run Clingo code from Jupyter Notebooks we will have to install this library.\n",
    "The process of installation is as follows:\n",
    "\n",
    "1.  Downloading [the git repository](https://github.com/if18b189/PythonClingo_Interface) either manually\n",
    "or with the following command\n",
    "> git clone https://github.com/if18b189/PythonClingo_Interface.git\n",
    "2.  Moving into the downloaded directory (if you downloaded the repository as a .zip you will have to extract it first)\n",
    "> cd PythonClingo_Interface\n",
    "3.  Installing the required python libraries.\n",
    "> pip install -r requirements.txt\n",
    "\n",
    "After these steps the installation should be complete and the following examples should execute without any issues.\n",
    "\n",
    "<h3 id=\"2-jupyter-notebook-basics\"> 2. Jupyter Notebook Basics </h3>\n",
    "\n",
    "After the download and installation process(pulling the repository and installing the requirements.txt) you can\n",
    "create a new Jupyter Notebook(.ipynb) file.\n",
    "Jupyter Notebooks consist of a markdown and a code cells. If you want to run code you just write it in a code cell\n",
    "if you want to document and explain your code you can do this in a markdown cell.\n",
    "To create a code cell you just type '#%%'\n",
    "\n",
    "\n",
    "<h3 id=\"3-run-clingo\"> 3. Running Clingo in Jupyter </h3>\n",
    "\n",
    "The PythonClingo-Interface allows a nearly seamless integration of Clingo into Jupyter Notebooks.\n",
    "\n",
    "\n"
   ],
   "metadata": {
    "collapsed": false,
    "pycharm": {
     "name": "#%% md\n"
    }
   }
  },
  {
   "cell_type": "code",
   "execution_count": null,
   "outputs": [],
   "source": [
    "%load_ext autoreload\n",
    "%autoreload 2\n",
    "\n",
    "from pythonclingointerface import clingo_interface as ci\n",
    "\n",
    "\n",
    "interface = ci.ClingoInterface()\n",
    "interface.checkParenthesis()\n",
    "interface.printSolutions()"
   ],
   "metadata": {
    "collapsed": false,
    "pycharm": {
     "name": "#%%\n"
    }
   }
  }
 ],
 "metadata": {
  "kernelspec": {
   "name": "pythonclingo_interface",
   "language": "python",
   "display_name": "PythonClingo_Interface"
  },
  "language_info": {
   "codemirror_mode": {
    "name": "ipython",
    "version": 2
   },
   "file_extension": ".py",
   "mimetype": "text/x-python",
   "name": "python",
   "nbconvert_exporter": "python",
   "pygments_lexer": "ipython2",
   "version": "2.7.6"
  }
 },
 "nbformat": 4,
 "nbformat_minor": 0
}