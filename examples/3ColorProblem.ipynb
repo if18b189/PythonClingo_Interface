{
 "cells": [
  {
   "cell_type": "markdown",
   "source": [
    "<h1 align=\"center\">3 Color Problem</h1>\n",
    "\n",
    "<h3> Description </h3>\n",
    "\n",
    "\n",
    "<h3> Clingo </h3>\n",
    "\n",
    "<CLINGO\n",
    "\n",
    "#script (python)\n",
    "\n",
    "import clingo\n",
    "\n",
    "def main(prg):\n",
    "    def on_model(m):\n",
    "        m.context.add_clause([(clingo.Function(\"a\"), False), (clingo.Function(\"b\"), False)])\n",
    "        m.context.add_nogood([(clingo.Function(\"c\"), True), (clingo.Function(\"d\"), True)])\n",
    "\n",
    "    prg.configuration.solve.models = 0\n",
    "    prg.ground([(\"base\", [])])\n",
    "    prg.solve(on_model=on_model)\n",
    "    print (\"and again\")\n",
    "    prg.solve()\n",
    "\n",
    "#end.\n",
    "\n",
    "2 { a; b; c; d }.\n",
    "\n",
    "CLINGO>\n"
   ],
   "metadata": {
    "collapsed": false
   }
  },
  {
   "cell_type": "code",
   "execution_count": null,
   "outputs": [],
   "source": [
    "%load_ext autoreload\n",
    "%autoreload 2\n",
    "\n",
    "from pythonclingointerface import clingo_interface as ci\n",
    "\n",
    "\n",
    "interface = ci.ClingoInterface()\n",
    "interface.checkParenthesis()\n",
    "interface.printSolutions()\n"
   ],
   "metadata": {
    "collapsed": false,
    "pycharm": {
     "name": "#%%\n"
    }
   }
  }
 ],
 "metadata": {
  "kernelspec": {
   "name": "pycharm-248c6e36",
   "language": "python",
   "display_name": "PyCharm (PythonClingo_Interface)"
  },
  "language_info": {
   "codemirror_mode": {
    "name": "ipython",
    "version": 2
   },
   "file_extension": ".py",
   "mimetype": "text/x-python",
   "name": "python",
   "nbconvert_exporter": "python",
   "pygments_lexer": "ipython2",
   "version": "2.7.6"
  }
 },
 "nbformat": 4,
 "nbformat_minor": 0
}